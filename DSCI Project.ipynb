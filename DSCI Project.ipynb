{
 "cells": [
  {
   "cell_type": "markdown",
   "metadata": {},
   "source": [
    "### Name: Jessie Sama\n",
    "### Email: js4927@drexel.edu\n",
    "### DSCI Final Project"
   ]
  },
  {
   "cell_type": "code",
   "execution_count": 1,
   "metadata": {},
   "outputs": [],
   "source": [
    "import requests\n",
    "import json\n",
    "from datetime import datetime"
   ]
  },
  {
   "cell_type": "code",
   "execution_count": 2,
   "metadata": {},
   "outputs": [],
   "source": [
    "#This function requsts NHTSA data and provides details of Pennsyvania between the years of 2018-2019\n",
    "def NHTSA_crashes(details):\n",
    "    \n",
    "    #Requesting NHTSA API\n",
    "    NHTSA = requests.get(\"https://crashviewer.nhtsa.dot.gov/CrashAPI/crashes/GetCaseList?states=42&fromYear=2018&toYear=2019&minNumOfVehicles=1&maxNumOfVehicles=6&format=json\")\n",
    "    Crash_Data = NHTSA.json()\n",
    "    \n",
    "    #Accessing the Dictionary \n",
    "    Results = Crash_Data['Results']\n",
    "    Crash_Details=Results[0]\n",
    "    \n",
    "    fatalities = []\n",
    "    people_involved = []\n",
    "    sum = 0\n",
    "    \n",
    "    #Iterating through the dictionary, accessing the fatal values and appending to empty list above\n",
    "    for item in Crash_Details:\n",
    "        for key in item:\n",
    "            deaths =item['Fatals']\n",
    "            fatalities.append(deaths)\n",
    "    \n",
    "    #Adding the total of the fatality values\n",
    "    for num in fatalities:\n",
    "        sum += num\n",
    "    \n",
    "    #Printing out data if user calls for fatality\n",
    "    if details==\"fatality\":\n",
    "        print(\"Between 2018-2019 there has been \" + str(sum) +\" deaths from car crashes.\")\n",
    "    \n",
    "    #Iterating through the dictionary, accessing people values and appending to empty list above\n",
    "    for people in Crash_Details:\n",
    "        for keys in people:\n",
    "            person = people['Persons']\n",
    "            people_involved.append(person)\n",
    "            \n",
    "    #Adding the total of the person values        \n",
    "    for peep in people_involved:\n",
    "        sum += peep\n",
    "        \n",
    "    #Printing out data if user calls for people   \n",
    "    if details=='people':\n",
    "        print(\"Between 2018-2019, \"+ str(sum) + \" people have been involed in a car accident.\")\n",
    "        \n",
    "    #Printing out API from NHTSA if user requests\n",
    "    if details=='API Data':\n",
    "        return(Crash_Data)\n",
    "            "
   ]
  },
  {
   "cell_type": "code",
   "execution_count": 15,
   "metadata": {},
   "outputs": [
    {
     "name": "stdout",
     "output_type": "stream",
     "text": [
      "Between 2018-2019, 31878 people have been involed in a car accident.\n"
     ]
    }
   ],
   "source": [
    "NHTSA_crashes(\"people\")"
   ]
  },
  {
   "cell_type": "code",
   "execution_count": 22,
   "metadata": {},
   "outputs": [],
   "source": [
    "#This function displays the most recent traffic incident that occured in Philadelphia by requestsing from MapQuest API\n",
    "def PhillyTrafficReport(Report):\n",
    "    \n",
    "    #Saving personal key for MapQuest API and requesting url\n",
    "    MapQuestKey = \"Gkv03GwhohN9gd2Cp0nLc0W6g6P5EJPz\"\n",
    "    MapQuest = requests.get(\"http://www.mapquestapi.com/traffic/v2/incidents?key=Gkv03GwhohN9gd2Cp0nLc0W6g6P5EJPz&boundingBox=39.9525,-75.1652,39.52,-74.1652&filters=construction,incidents\")\n",
    "    Philadelphia_Data = MapQuest.json()\n",
    "    \n",
    "    #Accessing the latest traffic incident in Philadelphia\n",
    "    Results = Philadelphia_Data['incidents']\n",
    "    LatestResults = Results[-1]\n",
    "    \n",
    "    #Taking the date of occurrence and converting the format\n",
    "    Date_of_occurence = LatestResults['startTime']\n",
    "    Date_format = datetime.strptime(Date_of_occurence, \"%Y-%m-%dT%H:%M:%f\")\n",
    "    Date = \"%m-%d-%Y\"\n",
    "    Formated_Date = Date_format.strftime(Date)\n",
    "    \n",
    "    \n",
    "    #Created a nested if statement depending on the newly updated API\n",
    "    #Returns the type of traffic incident, the severity, the date, and details\n",
    "    if Report=='type':\n",
    "        if LatestResults['type']==1:\n",
    "            print(\"This incident is reported as construction. \\n\")\n",
    "            print(\"On a scale from 0-4, the severity of this incident is reported as \"+ (str(LatestResults['severity']))+\".\\n\")\n",
    "            print(\"This incident occured on \" + Formated_Date +\".\\n\")\n",
    "            print(\"Details: \" +LatestResults['fullDesc'])\n",
    "            \n",
    "        elif LatestResults['type']==2: \n",
    "            print(\"This incident is reported as a special event. \\n\")\n",
    "            print(\"On a scale from 0-4, the severity of this incident is reported as \"+ (str(LatestResults['severity']))+\".\\n\")\n",
    "            print(\"This incident occured on \" + Formated_Date +\".\\n\")\n",
    "            print(\"Details: \" +LatestResults['fullDesc'])\n",
    "            \n",
    "        elif LatestResults['type']==3:\n",
    "            print(\"This incident is reported as traffic congestion. \\n\")\n",
    "            print(\"On a scale from 0-4, the severity of this incident is reported as \"+ (str(LatestResults['severity']))+\".\\n\")\n",
    "            print(\"This incident occured on \" + Formated_Date +\".\\n\")\n",
    "            print(\"Details: \" +LatestResults['fullDesc'])\n",
    "            \n",
    "        elif LatestResults['type']==4:\n",
    "            print(\"This incident is reported as an incident/accident \\n\")\n",
    "            print(\"On a scale from 0-4, the severity of this incident is reported as \"+ (str(LatestResults['severity']))+\".\\n\")\n",
    "            print(\"This incident occured on \" + Formated_Date +\".\\n\")\n",
    "            print(\"Details: \" +LatestResults['fullDesc'])\n",
    "    else:\n",
    "        print(\"Unable to provide that information at the moment. Reference the MapQuest API. \\n\")\n",
    "        print(Philadelphia_Data)\n",
    "    "
   ]
  },
  {
   "cell_type": "code",
   "execution_count": 23,
   "metadata": {
    "collapsed": true
   },
   "outputs": [
    {
     "name": "stdout",
     "output_type": "stream",
     "text": [
      "This incident is reported as construction. \n",
      "\n",
      "On a scale from 0-4, the severity of this incident is reported as 0.\n",
      "\n",
      "This incident occured on 04-06-2020.\n",
      "\n",
      "Details: No through traffic allowed due to covid-19 prevention measures on Walnut St Westbound between 13th St and Juniper St.\n"
     ]
    }
   ],
   "source": [
    "PhillyTrafficReport('type')"
   ]
  },
  {
   "cell_type": "code",
   "execution_count": 9,
   "metadata": {},
   "outputs": [],
   "source": [
    "#This function is used to find the unique Counties in Pennsylvania to be used in the following function.\n",
    "def GetCounty():\n",
    "    NHTSA = requests.get(\"https://crashviewer.nhtsa.dot.gov/CrashAPI/crashes/GetCaseList?states=42&fromYear=2018&toYear=2019&minNumOfVehicles=1&maxNumOfVehicles=6&format=json\")\n",
    "    Crash_Data = NHTSA.json()\n",
    "    \n",
    "    Results = Crash_Data['Results']\n",
    "    County = Results[0]\n",
    "    \n",
    "    list_of_counties = []\n",
    "    \n",
    "    #Iterating through the dictionary and finding unique County names\n",
    "    for dic in County:\n",
    "        for key in dic:\n",
    "            counties = (dic['CountyName'])\n",
    "            list_of_counties.append(counties)\n",
    "    return(list(set(list_of_counties)))"
   ]
  },
  {
   "cell_type": "code",
   "execution_count": 10,
   "metadata": {
    "collapsed": true
   },
   "outputs": [
    {
     "data": {
      "text/plain": [
       "['CLEARFIELD (33)',\n",
       " 'MONTOUR (93)',\n",
       " 'MONROE (89)',\n",
       " 'BRADFORD (15)',\n",
       " 'MCKEAN (83)',\n",
       " 'YORK (133)',\n",
       " 'PERRY (99)',\n",
       " 'SULLIVAN (113)',\n",
       " 'BUTLER (19)',\n",
       " 'LACKAWANNA (69)',\n",
       " 'CLINTON (35)',\n",
       " 'INDIANA (63)',\n",
       " 'FULTON (57)',\n",
       " 'POTTER (105)',\n",
       " 'CUMBERLAND (41)',\n",
       " 'ELK (47)',\n",
       " 'CHESTER (29)',\n",
       " 'LEHIGH (77)',\n",
       " 'ERIE (49)',\n",
       " 'WARREN (123)',\n",
       " 'MERCER (85)',\n",
       " 'DELAWARE (45)',\n",
       " 'FOREST (53)',\n",
       " 'JEFFERSON (65)',\n",
       " 'CAMBRIA (21)',\n",
       " 'BEAVER (7)',\n",
       " 'ARMSTRONG (5)',\n",
       " 'JUNIATA (67)',\n",
       " 'TIOGA (117)',\n",
       " 'BLAIR (13)',\n",
       " 'LYCOMING (81)',\n",
       " 'DAUPHIN (43)',\n",
       " 'FAYETTE (51)',\n",
       " 'MONTGOMERY (91)',\n",
       " 'SCHUYLKILL (107)',\n",
       " 'HUNTINGDON (61)',\n",
       " 'ADAMS (1)',\n",
       " 'PHILADELPHIA (101)',\n",
       " 'UNION (119)',\n",
       " 'CARBON (25)',\n",
       " 'VENANGO (121)',\n",
       " 'BEDFORD (9)',\n",
       " 'COLUMBIA (37)',\n",
       " 'GREENE (59)',\n",
       " 'SNYDER (109)',\n",
       " 'SUSQUEHANNA (115)',\n",
       " 'WESTMORELAND (129)',\n",
       " 'LANCASTER (71)',\n",
       " 'NORTHUMBERLAND (97)',\n",
       " 'ALLEGHENY (3)',\n",
       " 'WASHINGTON (125)',\n",
       " 'MIFFLIN (87)',\n",
       " 'NORTHAMPTON (95)',\n",
       " 'BUCKS (17)',\n",
       " 'WYOMING (131)',\n",
       " 'BERKS (11)',\n",
       " 'CRAWFORD (39)',\n",
       " 'FRANKLIN (55)',\n",
       " 'CENTRE (27)',\n",
       " 'LEBANON (75)',\n",
       " 'LAWRENCE (73)',\n",
       " 'CLARION (31)',\n",
       " 'LUZERNE (79)',\n",
       " 'PIKE (103)',\n",
       " 'SOMERSET (111)',\n",
       " 'WAYNE (127)']"
      ]
     },
     "execution_count": 10,
     "metadata": {},
     "output_type": "execute_result"
    }
   ],
   "source": [
    "GetCounty()"
   ]
  },
  {
   "cell_type": "code",
   "execution_count": 11,
   "metadata": {},
   "outputs": [],
   "source": [
    "#This function is used to display the specific details for the provided County\n",
    "def PACountyData(county,details):\n",
    "    NHTSA = requests.get(\"https://crashviewer.nhtsa.dot.gov/CrashAPI/crashes/GetCaseList?states=42&fromYear=2018&toYear=2019&minNumOfVehicles=1&maxNumOfVehicles=6&format=json\")\n",
    "    Crash_Data = NHTSA.json()\n",
    "    \n",
    "    Results = Crash_Data['Results']\n",
    "    County = Results[0]\n",
    "\n",
    "    print(\"The data provided is collected between the years of 2018-2019: \\n\")\n",
    "    \n",
    "    vehicles_involved = []\n",
    "    people_involved = []\n",
    "    sum = 0\n",
    "    \n",
    "    #Iterating through the counties and appending the values to empty dictionaries above\n",
    "    for dic in County:\n",
    "        for val in dic.values():\n",
    "            if val==county:\n",
    "                cars = dic['TotalVehicles']\n",
    "                people = dic['Persons']\n",
    "                vehicles_involved.append(cars)\n",
    "                people_involved.append(people)\n",
    "    \n",
    "    #Adding the amount of vehicles involved in an accident in given county\n",
    "    for cars in vehicles_involved:\n",
    "        sum += cars\n",
    "    \n",
    "    #Displaying the data if user selects details about vehicle accidents\n",
    "    if details=='cars':\n",
    "        print(\"There has been \" + str(sum) + \" vehicles involved in incidents in this given county.\")\n",
    "    \n",
    "    #Adding the amound of people involved in an accident in given county\n",
    "    for peeps in people_involved:\n",
    "        sum+= peeps\n",
    "    \n",
    "    #Displaying the data if user selects details about people involved in accidents\n",
    "    if details=='people':\n",
    "        print(str(sum)+ \" people have been invovled in accidents in this given county.\")\n"
   ]
  },
  {
   "cell_type": "code",
   "execution_count": 17,
   "metadata": {},
   "outputs": [
    {
     "name": "stdout",
     "output_type": "stream",
     "text": [
      "The data provided is collected between the years of 2018-2019: \n",
      "\n",
      "There has been 150 vehicles involved in incidents in this given county.\n"
     ]
    }
   ],
   "source": [
    "PACountyData(\"PHILADELPHIA (101)\",\"cars\")"
   ]
  },
  {
   "cell_type": "code",
   "execution_count": null,
   "metadata": {},
   "outputs": [],
   "source": []
  }
 ],
 "metadata": {
  "kernelspec": {
   "display_name": "Python 3",
   "language": "python",
   "name": "python3"
  },
  "language_info": {
   "codemirror_mode": {
    "name": "ipython",
    "version": 3
   },
   "file_extension": ".py",
   "mimetype": "text/x-python",
   "name": "python",
   "nbconvert_exporter": "python",
   "pygments_lexer": "ipython3",
   "version": "3.8.8"
  }
 },
 "nbformat": 4,
 "nbformat_minor": 4
}
